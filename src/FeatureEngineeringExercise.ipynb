{
 "cells": [
  {
   "attachments": {},
   "cell_type": "markdown",
   "metadata": {},
   "source": [
    "This is the feature engineering notebook for exercise\n",
    "Intentions-\n",
    "1. The data was extracted from chatGpt and needs cleansing\n",
    "2. Column 2 - name - Some exercise have \\n -> Need it gone\n",
    "3. Column 3 - exercise_type - All fine\n",
    "4. Column 4 - muscles_targeted - All have to be singluar, and just space seperated\n",
    "5. Column 5 - calories_10_min - Need just one value\n",
    "6. Column 6 - **Need to manually enter data here**\n",
    "7. Column 7 - All fine\n",
    "8. Column 8 - how_critical - **Need manual entries**"
   ]
  },
  {
   "cell_type": "code",
   "execution_count": null,
   "metadata": {},
   "outputs": [],
   "source": []
  }
 ],
 "metadata": {
  "language_info": {
   "name": "python"
  },
  "orig_nbformat": 4
 },
 "nbformat": 4,
 "nbformat_minor": 2
}

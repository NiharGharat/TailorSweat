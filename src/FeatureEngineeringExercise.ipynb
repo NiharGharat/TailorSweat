{
 "cells": [
  {
   "cell_type": "code",
   "execution_count": 33,
   "metadata": {},
   "outputs": [],
   "source": [
    "import pandas as pd"
   ]
  },
  {
   "cell_type": "code",
   "execution_count": 34,
   "metadata": {},
   "outputs": [],
   "source": [
    "#reading csv\n",
    "df = pd.read_csv(\"resources\\\\data\\\\exercise_raw.csv\")\n",
    "#checking if its a range\n",
    "def is_range(value):\n",
    "    return isinstance(value, str) and '-' in value\n",
    "\n",
    "#making average for calories_10_min\n",
    "for index, row in df.iterrows():\n",
    "    if is_range(row['calories_10_min']):\n",
    "        low, high = map(int, row['calories_10_min'].split('-'))\n",
    "        avg = (low + high) / 2\n",
    "        df.at[index, 'calories_10_min'] = avg\n",
    "    else:\n",
    "        df.at[index, 'calories_10_min'] = int(row['calories_10_min'])"
   ]
  },
  {
   "cell_type": "code",
   "execution_count": 35,
   "metadata": {},
   "outputs": [],
   "source": [
    "#updating the name to lower and replacing - and space with _\n",
    "df['name']= df['name'] .str.lower()\n",
    "df['name'] = df['name'].str.replace(' ', '_')\n",
    "df['name'] = df['name'].str.replace('-', '_')"
   ]
  },
  {
   "cell_type": "code",
   "execution_count": 36,
   "metadata": {},
   "outputs": [],
   "source": [
    "#lowers excerise type\n",
    "df['exercise_type']= df['exercise_type'] .str.lower()"
   ]
  },
  {
   "cell_type": "code",
   "execution_count": 37,
   "metadata": {},
   "outputs": [],
   "source": [
    "#makes the word singular\n",
    "def singularize(word):\n",
    "    if word.endswith(\"s\"):\n",
    "        return word[:-1]\n",
    "    else:\n",
    "        return word\n",
    "    \n",
    "#dictionary to convert exercise name to generic ones\n",
    "muscles_dict = {\n",
    "    \"Legs\": \"leg\",\n",
    "    \"Hamstrings\": \"leg\",\n",
    "    \"Glutes\": \"leg\",\n",
    "    \"Quadriceps\": \"leg\",\n",
    "    \"Chest\": \"chest\",\n",
    "    \"Shoulders\": \"shoulder\",\n",
    "    \"Triceps\": \"tricep\",\n",
    "    \"Core\": \"core\",\n",
    "    \"Obliques\": \"core\",\n",
    "    \"Lower Back\": \"back\",\n",
    "    \"Back\": \"back\",\n",
    "    \"Biceps\": \"bicep\",\n",
    "    \"Forearms\": \"bicep\",\n",
    "    \"Arms\": \"bicep tricep\",\n",
    "    \"Full Body\": \"back bicep chest leg shoulder tricep core\" }\n",
    "# Apply the function and dictionary to the column\n",
    "#df[\"muscles_targeted\"] = df[\"muscles_targeted\"].apply(lambda x: [singularize(muscles_dict[word]) for word in x.split(\", \")])\n",
    "df[\"muscles_targeted\"] = df[\"muscles_targeted\"].apply(lambda x: list(set([singularize(muscles_dict[word]) for word in x.split(\", \")])))\n",
    "# Convert the list back to string with \",\" as separator\n",
    "df[\"muscles_targeted\"] = df[\"muscles_targeted\"].apply(lambda x: \" \".join(sorted(x)))"
   ]
  },
  {
   "cell_type": "code",
   "execution_count": 38,
   "metadata": {},
   "outputs": [],
   "source": [
    "#convert boolean to numeric function\n",
    "df['is_compound']=df['is_compound'].astype(int)\n",
    "df.to_csv(\"resources\\\\data\\\\exercise.csv\",index=False)"
   ]
  }
 ],
 "metadata": {
  "kernelspec": {
   "display_name": "Python 3",
   "language": "python",
   "name": "python3"
  },
  "language_info": {
   "codemirror_mode": {
    "name": "ipython",
    "version": 3
   },
   "file_extension": ".py",
   "mimetype": "text/x-python",
   "name": "python",
   "nbconvert_exporter": "python",
   "pygments_lexer": "ipython3",
   "version": "3.9.13"
  },
  "orig_nbformat": 4
 },
 "nbformat": 4,
 "nbformat_minor": 2
}

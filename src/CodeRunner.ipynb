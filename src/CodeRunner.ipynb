{
 "cells": [
  {
   "cell_type": "code",
   "execution_count": 1,
   "metadata": {},
   "outputs": [
    {
     "name": "stderr",
     "output_type": "stream",
     "text": [
      "2023-05-11 07:55:50.173065: I tensorflow/core/util/port.cc:110] oneDNN custom operations are on. You may see slightly different numerical results due to floating-point round-off errors from different computation orders. To turn them off, set the environment variable `TF_ENABLE_ONEDNN_OPTS=0`.\n",
      "2023-05-11 07:55:50.175359: I tensorflow/tsl/cuda/cudart_stub.cc:28] Could not find cuda drivers on your machine, GPU will not be used.\n",
      "2023-05-11 07:55:50.216616: I tensorflow/tsl/cuda/cudart_stub.cc:28] Could not find cuda drivers on your machine, GPU will not be used.\n",
      "2023-05-11 07:55:50.217178: I tensorflow/core/platform/cpu_feature_guard.cc:182] This TensorFlow binary is optimized to use available CPU instructions in performance-critical operations.\n",
      "To enable the following instructions: AVX2 AVX512F AVX512_VNNI FMA, in other operations, rebuild TensorFlow with the appropriate compiler flags.\n",
      "2023-05-11 07:55:50.963880: W tensorflow/compiler/tf2tensorrt/utils/py_utils.cc:38] TF-TRT Warning: Could not find TensorRT\n",
      "2023-05-11 07:55:53.896467: E tensorflow/compiler/xla/stream_executor/cuda/cuda_driver.cc:266] failed call to cuInit: CUDA_ERROR_NO_DEVICE: no CUDA-capable device is detected\n"
     ]
    },
    {
     "name": "stdout",
     "output_type": "stream",
     "text": [
      "Epoch 1/10\n",
      "2294/2294 [==============================] - 5s 1ms/step - loss: 0.1015 - val_loss: 0.6338\n",
      "Epoch 2/10\n",
      "2294/2294 [==============================] - 3s 1ms/step - loss: 0.0953 - val_loss: 0.6207\n",
      "Epoch 3/10\n",
      "2294/2294 [==============================] - 3s 1ms/step - loss: 0.0953 - val_loss: 0.6333\n",
      "Epoch 4/10\n",
      "2294/2294 [==============================] - 3s 1ms/step - loss: 0.0952 - val_loss: 0.6391\n",
      "Epoch 5/10\n",
      "2294/2294 [==============================] - 3s 1ms/step - loss: 0.0952 - val_loss: 0.6611\n",
      "Epoch 6/10\n",
      "2294/2294 [==============================] - 3s 1ms/step - loss: 0.0952 - val_loss: 0.6788\n",
      "Epoch 7/10\n",
      "2294/2294 [==============================] - 3s 1ms/step - loss: 0.0952 - val_loss: 0.6530\n",
      "Epoch 8/10\n",
      "2294/2294 [==============================] - 3s 1ms/step - loss: 0.0952 - val_loss: 0.6585\n",
      "Epoch 9/10\n",
      "2294/2294 [==============================] - 3s 1ms/step - loss: 0.0952 - val_loss: 0.6561\n",
      "Epoch 10/10\n",
      "2294/2294 [==============================] - 3s 1ms/step - loss: 0.0952 - val_loss: 0.6763\n",
      "23/23 [==============================] - 0s 2ms/step\n",
      "['Battle Ropes', 'Bench Press', 'Bicep Curl', 'Bird Dog', 'Box Jumps']\n",
      "File does not exist in the directory.\n",
      "        id      date  workout_fun_factor  duration   cals_burnt  mood  \\\n",
      "0        1  20100101                 3.0      60.0   354.000000   1.0   \n",
      "1        2  20100102                 5.0     110.0  1134.375000   1.0   \n",
      "2        3  20100103                 4.0      70.0   507.500000   2.0   \n",
      "3        4  20100104                 2.0      60.0   366.666667   0.0   \n",
      "4        5  20100105                 3.0      40.0   204.000000   2.0   \n",
      "...    ...       ...                 ...       ...          ...   ...   \n",
      "3581  3582  20191022                 4.0      83.0   423.300000   0.0   \n",
      "3582  3583  20191023                 4.0      45.0   180.000000   0.0   \n",
      "3583  3584  20191024                 1.0      37.0   222.000000   0.0   \n",
      "3584  3585  20191025                 4.0      54.0   237.600000   0.0   \n",
      "3585  3586  20191026                 1.0      38.0   391.875000   1.0   \n",
      "\n",
      "      activeness  0  1  2  ...  40  41  42  43  44  45  46  47  48  49  \n",
      "0            1.0  0  0  0  ...   0   0   0   1   0   0   0   0   0   0  \n",
      "1            2.0  0  0  0  ...   0   0   0   0   0   0   0   0   1   0  \n",
      "2            2.0  0  0  0  ...   0   1   1   0   0   0   0   1   0   1  \n",
      "3            1.0  1  0  0  ...   0   0   0   0   0   0   1   0   0   0  \n",
      "4            0.0  1  0  0  ...   0   0   0   1   0   0   0   0   0   0  \n",
      "...          ... .. .. ..  ...  ..  ..  ..  ..  ..  ..  ..  ..  ..  ..  \n",
      "3581         1.0  1  0  0  ...   0   0   0   1   0   0   0   0   0   0  \n",
      "3582         2.0  0  0  0  ...   0   0   0   0   0   0   0   0   0   0  \n",
      "3583         2.0  0  0  0  ...   0   0   0   1   0   0   0   0   0   0  \n",
      "3584         2.0  1  0  0  ...   0   0   0   0   0   0   1   0   0   0  \n",
      "3585         2.0  0  0  0  ...   0   0   0   0   0   0   0   0   1   0  \n",
      "\n",
      "[3586 rows x 57 columns]\n"
     ]
    }
   ],
   "source": [
    "from ServiceLayerFrontEnd import FrontEndService"
   ]
  },
  {
   "cell_type": "code",
   "execution_count": 2,
   "metadata": {},
   "outputs": [],
   "source": [
    "# service = FrontEndService(False)"
   ]
  },
  {
   "cell_type": "code",
   "execution_count": 1,
   "metadata": {},
   "outputs": [],
   "source": [
    "# Some issues with procedure, bypassed it\n",
    "# service.main_procedure()"
   ]
  },
  {
   "cell_type": "code",
   "execution_count": null,
   "metadata": {},
   "outputs": [],
   "source": []
  }
 ],
 "metadata": {
  "kernelspec": {
   "display_name": "test_env",
   "language": "python",
   "name": "python3"
  },
  "language_info": {
   "codemirror_mode": {
    "name": "ipython",
    "version": 3
   },
   "file_extension": ".py",
   "mimetype": "text/x-python",
   "name": "python",
   "nbconvert_exporter": "python",
   "pygments_lexer": "ipython3",
   "version": "3.10.9"
  },
  "orig_nbformat": 4
 },
 "nbformat": 4,
 "nbformat_minor": 2
}

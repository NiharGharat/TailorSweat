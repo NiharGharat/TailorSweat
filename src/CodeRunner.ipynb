{
 "cells": [
  {
   "cell_type": "code",
   "execution_count": 1,
   "metadata": {},
   "outputs": [
    {
     "name": "stderr",
     "output_type": "stream",
     "text": [
      "2023-05-11 07:47:26.264800: I tensorflow/core/util/port.cc:110] oneDNN custom operations are on. You may see slightly different numerical results due to floating-point round-off errors from different computation orders. To turn them off, set the environment variable `TF_ENABLE_ONEDNN_OPTS=0`.\n",
      "2023-05-11 07:47:26.267367: I tensorflow/tsl/cuda/cudart_stub.cc:28] Could not find cuda drivers on your machine, GPU will not be used.\n",
      "2023-05-11 07:47:26.311200: I tensorflow/tsl/cuda/cudart_stub.cc:28] Could not find cuda drivers on your machine, GPU will not be used.\n",
      "2023-05-11 07:47:26.311818: I tensorflow/core/platform/cpu_feature_guard.cc:182] This TensorFlow binary is optimized to use available CPU instructions in performance-critical operations.\n",
      "To enable the following instructions: AVX2 AVX512F AVX512_VNNI FMA, in other operations, rebuild TensorFlow with the appropriate compiler flags.\n",
      "2023-05-11 07:47:27.060326: W tensorflow/compiler/tf2tensorrt/utils/py_utils.cc:38] TF-TRT Warning: Could not find TensorRT\n"
     ]
    },
    {
     "name": "stdout",
     "output_type": "stream",
     "text": [
      "File does not exist in the directory.\n",
      "        id      date  workout_fun_factor  duration   cals_burnt  mood  \\\n",
      "0        1  20100101                 3.0      60.0   354.000000   1.0   \n",
      "1        2  20100102                 5.0     110.0  1134.375000   1.0   \n",
      "2        3  20100103                 4.0      70.0   507.500000   2.0   \n",
      "3        4  20100104                 2.0      60.0   366.666667   0.0   \n",
      "4        5  20100105                 3.0      40.0   204.000000   2.0   \n",
      "...    ...       ...                 ...       ...          ...   ...   \n",
      "3581  3582  20191022                 4.0      83.0   423.300000   0.0   \n",
      "3582  3583  20191023                 4.0      45.0   180.000000   0.0   \n",
      "3583  3584  20191024                 1.0      37.0   222.000000   0.0   \n",
      "3584  3585  20191025                 4.0      54.0   237.600000   0.0   \n",
      "3585  3586  20191026                 1.0      38.0   391.875000   1.0   \n",
      "\n",
      "      activeness  0  1  2  ...  40  41  42  43  44  45  46  47  48  49  \n",
      "0            1.0  0  0  0  ...   0   0   0   1   0   0   0   0   0   0  \n",
      "1            2.0  0  0  0  ...   0   0   0   0   0   0   0   0   1   0  \n",
      "2            2.0  0  0  0  ...   0   1   1   0   0   0   0   1   0   1  \n",
      "3            1.0  1  0  0  ...   0   0   0   0   0   0   1   0   0   0  \n",
      "4            0.0  1  0  0  ...   0   0   0   1   0   0   0   0   0   0  \n",
      "...          ... .. .. ..  ...  ..  ..  ..  ..  ..  ..  ..  ..  ..  ..  \n",
      "3581         1.0  1  0  0  ...   0   0   0   1   0   0   0   0   0   0  \n",
      "3582         2.0  0  0  0  ...   0   0   0   0   0   0   0   0   0   0  \n",
      "3583         2.0  0  0  0  ...   0   0   0   1   0   0   0   0   0   0  \n",
      "3584         2.0  1  0  0  ...   0   0   0   0   0   0   1   0   0   0  \n",
      "3585         2.0  0  0  0  ...   0   0   0   0   0   0   0   0   1   0  \n",
      "\n",
      "[3586 rows x 57 columns]\n"
     ]
    }
   ],
   "source": [
    "from ServiceLayerFrontEnd import FrontEndService"
   ]
  },
  {
   "cell_type": "code",
   "execution_count": 2,
   "metadata": {},
   "outputs": [
    {
     "name": "stdout",
     "output_type": "stream",
     "text": [
      "File does not exist in the directory.\n"
     ]
    }
   ],
   "source": [
    "service = FrontEndService(False)"
   ]
  },
  {
   "cell_type": "code",
   "execution_count": 4,
   "metadata": {},
   "outputs": [
    {
     "name": "stdout",
     "output_type": "stream",
     "text": [
      "Workouts captured\n",
      "Todays workout was:  <Entities.Workout object at 0x7f0f3b2d2800>\n"
     ]
    },
    {
     "ename": "AttributeError",
     "evalue": "'str' object has no attribute 'isoformat'",
     "output_type": "error",
     "traceback": [
      "\u001b[0;31m---------------------------------------------------------------------------\u001b[0m",
      "\u001b[0;31mAttributeError\u001b[0m                            Traceback (most recent call last)",
      "Cell \u001b[0;32mIn[4], line 1\u001b[0m\n\u001b[0;32m----> 1\u001b[0m service\u001b[39m.\u001b[39;49mmain_procedure()\n",
      "File \u001b[0;32m~/niharFOlder/Projects/AllCollegeCode/AssignmentWork/6363_ML/CSE6363/assignments/TailorSweat/src/ServiceLayerFrontEnd.py:54\u001b[0m, in \u001b[0;36mFrontEndService.main_procedure\u001b[0;34m(self)\u001b[0m\n\u001b[1;32m     52\u001b[0m exit \u001b[39m=\u001b[39m \u001b[39mTrue\u001b[39;00m\n\u001b[1;32m     53\u001b[0m \u001b[39mwhile\u001b[39;00m exit:\n\u001b[0;32m---> 54\u001b[0m     next_workouts: \u001b[39mstr\u001b[39m \u001b[39m=\u001b[39m \u001b[39mself\u001b[39;49m\u001b[39m.\u001b[39;49m_main_procedure()\n\u001b[1;32m     55\u001b[0m     \u001b[39mprint\u001b[39m(\u001b[39m\"\u001b[39m\u001b[39mNext workout suggestion is \u001b[39m\u001b[39m\"\u001b[39m, next_workouts)\n\u001b[1;32m     56\u001b[0m     exit \u001b[39m=\u001b[39m \u001b[39minput\u001b[39m(\u001b[39m\"\u001b[39m\u001b[39mKeep doing ops? Y/N\u001b[39m\u001b[39m\"\u001b[39m)\u001b[39m.\u001b[39mlower()\u001b[39m.\u001b[39mstrip() \u001b[39m==\u001b[39m \u001b[39m'\u001b[39m\u001b[39my\u001b[39m\u001b[39m'\u001b[39m\n",
      "File \u001b[0;32m~/niharFOlder/Projects/AllCollegeCode/AssignmentWork/6363_ML/CSE6363/assignments/TailorSweat/src/ServiceLayerFrontEnd.py:42\u001b[0m, in \u001b[0;36mFrontEndService._main_procedure\u001b[0;34m(self)\u001b[0m\n\u001b[1;32m     39\u001b[0m \u001b[39m# 2. Push the workouts to todays workout session and ensure safety in pushing\u001b[39;00m\n\u001b[1;32m     40\u001b[0m \u001b[39m# Push to date - manipulate data only when safety is off\u001b[39;00m\n\u001b[1;32m     41\u001b[0m \u001b[39mif\u001b[39;00m \u001b[39mnot\u001b[39;00m \u001b[39mself\u001b[39m\u001b[39m.\u001b[39msafety:\n\u001b[0;32m---> 42\u001b[0m     \u001b[39mself\u001b[39;49m\u001b[39m.\u001b[39;49mservice_layer\u001b[39m.\u001b[39;49msave_workouts(todays_workout)\n\u001b[1;32m     43\u001b[0m     \u001b[39mprint\u001b[39m(\u001b[39m\"\u001b[39m\u001b[39mSaved todays workouts\u001b[39m\u001b[39m\"\u001b[39m)\n\u001b[1;32m     44\u001b[0m \u001b[39melse\u001b[39;00m:\n",
      "File \u001b[0;32m~/niharFOlder/Projects/AllCollegeCode/AssignmentWork/6363_ML/CSE6363/assignments/TailorSweat/src/ServiceLayer.py:21\u001b[0m, in \u001b[0;36mServiceLayer.save_workouts\u001b[0;34m(self, todays_workout)\u001b[0m\n\u001b[1;32m     20\u001b[0m \u001b[39mdef\u001b[39;00m \u001b[39msave_workouts\u001b[39m(\u001b[39mself\u001b[39m, todays_workout: Entities\u001b[39m.\u001b[39mWorkout) \u001b[39m-\u001b[39m\u001b[39m>\u001b[39m \u001b[39mbool\u001b[39m:\n\u001b[0;32m---> 21\u001b[0m     status_of_save: \u001b[39mbool\u001b[39m \u001b[39m=\u001b[39m \u001b[39mself\u001b[39;49m\u001b[39m.\u001b[39;49mdao_layer\u001b[39m.\u001b[39;49msave_workout(todays_workout)\n\u001b[1;32m     22\u001b[0m     \u001b[39m# A new workout was just in, need to run recomputations on exercise and workout calc file\u001b[39;00m\n\u001b[1;32m     23\u001b[0m     \u001b[39m# todays_workout is not needed further as we have already \u001b[39;00m\n\u001b[1;32m     24\u001b[0m     status_of_recomputation \u001b[39m=\u001b[39m \u001b[39mself\u001b[39m\u001b[39m.\u001b[39mdo_recomputation()\n",
      "File \u001b[0;32m~/niharFOlder/Projects/AllCollegeCode/AssignmentWork/6363_ML/CSE6363/assignments/TailorSweat/src/ServiceLayerDao.py:16\u001b[0m, in \u001b[0;36mDaoLayer.save_workout\u001b[0;34m(self, todays_workout)\u001b[0m\n\u001b[1;32m     14\u001b[0m \u001b[39mdef\u001b[39;00m \u001b[39msave_workout\u001b[39m(\u001b[39mself\u001b[39m, todays_workout: Workout):\n\u001b[1;32m     15\u001b[0m     \u001b[39m# Save workouts to csv file\u001b[39;00m\n\u001b[0;32m---> 16\u001b[0m     \u001b[39mself\u001b[39;49m\u001b[39m.\u001b[39;49m_append_workout_to_csv(todays_workout, Constants\u001b[39m.\u001b[39;49mDAILY_WORKOUT_DATA_PATH)\n\u001b[1;32m     17\u001b[0m     \u001b[39mreturn\u001b[39;00m \u001b[39mTrue\u001b[39;00m\n",
      "File \u001b[0;32m~/niharFOlder/Projects/AllCollegeCode/AssignmentWork/6363_ML/CSE6363/assignments/TailorSweat/src/ServiceLayerDao.py:27\u001b[0m, in \u001b[0;36mDaoLayer._append_workout_to_csv\u001b[0;34m(self, workout, filename)\u001b[0m\n\u001b[1;32m     22\u001b[0m     writer \u001b[39m=\u001b[39m csv\u001b[39m.\u001b[39mwriter(file)\n\u001b[1;32m     24\u001b[0m     \u001b[39m# Write the workout data as a row in the CSV file\u001b[39;00m\n\u001b[1;32m     25\u001b[0m     writer\u001b[39m.\u001b[39mwriterow([\n\u001b[1;32m     26\u001b[0m         workout\u001b[39m.\u001b[39mid,\n\u001b[0;32m---> 27\u001b[0m         workout\u001b[39m.\u001b[39;49mdate\u001b[39m.\u001b[39;49misoformat(),\n\u001b[1;32m     28\u001b[0m         \u001b[39m'\u001b[39m\u001b[39m,\u001b[39m\u001b[39m'\u001b[39m\u001b[39m.\u001b[39mjoin(workout\u001b[39m.\u001b[39mexercise_list),\n\u001b[1;32m     29\u001b[0m         workout\u001b[39m.\u001b[39mworkout_fun_factor,\n\u001b[1;32m     30\u001b[0m         workout\u001b[39m.\u001b[39mduration,\n\u001b[1;32m     31\u001b[0m         workout\u001b[39m.\u001b[39mcalories_burnt,\n\u001b[1;32m     32\u001b[0m         workout\u001b[39m.\u001b[39mmood,\n\u001b[1;32m     33\u001b[0m         workout\u001b[39m.\u001b[39mactiveness\n\u001b[1;32m     34\u001b[0m     ])\n\u001b[1;32m     35\u001b[0m \u001b[39mreturn\u001b[39;00m \u001b[39mTrue\u001b[39;00m\n",
      "\u001b[0;31mAttributeError\u001b[0m: 'str' object has no attribute 'isoformat'"
     ]
    }
   ],
   "source": [
    "service.main_procedure()"
   ]
  },
  {
   "cell_type": "code",
   "execution_count": null,
   "metadata": {},
   "outputs": [],
   "source": []
  }
 ],
 "metadata": {
  "kernelspec": {
   "display_name": "test_env",
   "language": "python",
   "name": "python3"
  },
  "language_info": {
   "codemirror_mode": {
    "name": "ipython",
    "version": 3
   },
   "file_extension": ".py",
   "mimetype": "text/x-python",
   "name": "python",
   "nbconvert_exporter": "python",
   "pygments_lexer": "ipython3",
   "version": "3.10.9"
  },
  "orig_nbformat": 4
 },
 "nbformat": 4,
 "nbformat_minor": 2
}
